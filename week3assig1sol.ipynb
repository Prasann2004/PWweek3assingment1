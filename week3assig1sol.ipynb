{
 "cells": [
  {
   "cell_type": "code",
   "execution_count": 8,
   "id": "bcc39fea",
   "metadata": {},
   "outputs": [
    {
     "name": "stdout",
     "output_type": "stream",
     "text": [
      "[1, 3, 5, 7, 9, 11, 13, 15, 17, 19, 21, 23, 25]\n",
      "[1, 3, 5, 7, 9, 11, 13, 15, 17, 19, 21, 23, 25]\n"
     ]
    }
   ],
   "source": [
    "#Q1)\n",
    "'''def is the keyword used for creating function.'''\n",
    "l1=list(range(1,26))\n",
    "l=[]\n",
    "def return_odd_number(List):#method1: using def \n",
    "    for i in List:\n",
    "        if i%2!=0:\n",
    "            l.append(i)\n",
    "l1=list(range(1,26))\n",
    "return_odd_number(l1)\n",
    "a=list(filter(lambda x:x%2!=0,l1))#method2: using filter function\n",
    "print(a)\n",
    "print(l)\n"
   ]
  },
  {
   "cell_type": "code",
   "execution_count": 11,
   "id": "811cf010",
   "metadata": {},
   "outputs": [
    {
     "name": "stdout",
     "output_type": "stream",
     "text": [
      "My name is Prasann.\n",
      "name: Prasann\n",
      "age: 19\n",
      "college_name: NSUT\n"
     ]
    }
   ],
   "source": [
    "#Q2)\n",
    "'''In Python, *args and **kwargs are used to pass a variable number of arguments to a function. \n",
    "They provide a flexible way to define and call functions that can accept different numbers of arguments.'''\n",
    "def concatenate_strings(*args):#used to add n number of strings\n",
    "    final_str=\"\"\n",
    "    for i in args:\n",
    "        final_str+=i\n",
    "    return final_str\n",
    "print(concatenate_strings(\"My \",\"name \",\"is \",\"Prasann.\"))\n",
    "def store_data(**kwargs):\n",
    "    for key, value in kwargs.items():\n",
    "        print(key + \": \" + str(value))\n",
    "store_data(name=\"Prasann\",age=19,college_name=\"NSUT\")"
   ]
  },
  {
   "cell_type": "code",
   "execution_count": 13,
   "id": "87027e27",
   "metadata": {},
   "outputs": [
    {
     "name": "stdout",
     "output_type": "stream",
     "text": [
      "2\n",
      "4\n",
      "6\n",
      "8\n",
      "10\n"
     ]
    }
   ],
   "source": [
    "#Q3)\n",
    "'''An iterator is an object that can be iterated upon, meaning that you can traverse through all the values.\n",
    "It can be initialised by using iter() method and iteration can be done using next() method in python. '''\n",
    "list= [2, 4, 6, 8, 10, 12, 14, 16,18, 20]\n",
    "list_iterator=iter(list)\n",
    "for i in range(5):\n",
    "    print(next(list_iterator))"
   ]
  },
  {
   "cell_type": "code",
   "execution_count": 14,
   "id": "cdd4b724",
   "metadata": {},
   "outputs": [
    {
     "name": "stdout",
     "output_type": "stream",
     "text": [
      "0\n",
      "2\n",
      "4\n",
      "6\n",
      "8\n"
     ]
    }
   ],
   "source": [
    "#Q4)\n",
    "''' A Python generator function allows you to declare a function that behaves like an iterator. \n",
    "Yield allows generator functions to generate a sequence of values incrementally, one at a time, instead of generating and storing all the values at once.'''\n",
    "def even_numbers(n):#generates even number between 0 to n\n",
    "    for i in range(n):\n",
    "        if i % 2 == 0:\n",
    "            yield i\n",
    "for i in even_numbers(10):\n",
    "    print(i)"
   ]
  },
  {
   "cell_type": "code",
   "execution_count": 17,
   "id": "c92771e3",
   "metadata": {},
   "outputs": [
    {
     "name": "stdout",
     "output_type": "stream",
     "text": [
      "2\n",
      "3\n",
      "5\n",
      "7\n",
      "11\n",
      "13\n",
      "17\n",
      "19\n",
      "23\n",
      "29\n",
      "31\n",
      "37\n",
      "41\n",
      "43\n",
      "47\n",
      "53\n",
      "59\n",
      "61\n",
      "67\n",
      "71\n"
     ]
    }
   ],
   "source": [
    "#Q5)\n",
    "def generate_primes():\n",
    "    primes = []\n",
    "    number = 2\n",
    "    while number < 1000:\n",
    "        is_prime = True\n",
    "        for prime in primes:\n",
    "            if number % prime == 0:\n",
    "                is_prime = False\n",
    "                break\n",
    "        if is_prime:\n",
    "            primes.append(number)\n",
    "            yield number\n",
    "        number += 1\n",
    "\n",
    "prime_generator = generate_primes()\n",
    "for _ in range(20):\n",
    "    prime = next(prime_generator)\n",
    "    print(prime)\n",
    "   "
   ]
  },
  {
   "cell_type": "code",
   "execution_count": null,
   "id": "e1dff171",
   "metadata": {},
   "outputs": [],
   "source": []
  },
  {
   "cell_type": "code",
   "execution_count": null,
   "id": "6a469f7c",
   "metadata": {},
   "outputs": [],
   "source": []
  }
 ],
 "metadata": {
  "kernelspec": {
   "display_name": "Python 3 (ipykernel)",
   "language": "python",
   "name": "python3"
  },
  "language_info": {
   "codemirror_mode": {
    "name": "ipython",
    "version": 3
   },
   "file_extension": ".py",
   "mimetype": "text/x-python",
   "name": "python",
   "nbconvert_exporter": "python",
   "pygments_lexer": "ipython3",
   "version": "3.11.1"
  }
 },
 "nbformat": 4,
 "nbformat_minor": 5
}
